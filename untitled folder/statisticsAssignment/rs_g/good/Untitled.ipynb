{
 "cells": [
  {
   "cell_type": "code",
   "execution_count": 1,
   "metadata": {},
   "outputs": [],
   "source": [
    "import matplotlib.pyplot as plt\n",
    "import pandas as pd"
   ]
  },
  {
   "cell_type": "code",
   "execution_count": 3,
   "metadata": {},
   "outputs": [],
   "source": [
    "def analyze(data, column, threshold):\n",
    "    print('%s: %s < %s' % (column, data[data[column] < threshold].shape[0], threshold))"
   ]
  },
  {
   "cell_type": "code",
   "execution_count": 2,
   "metadata": {},
   "outputs": [],
   "source": [
    "def plot_FDR(data, column, title):\n",
    "    pvals = data.sort_values(column)[column]\n",
    "    plt.scatter(list(range(pvals.count())), pvals, c='r', marker='x')\n",
    "    plt.axhline(y = 0.05)\n",
    "    plt.xlabel('rank')\n",
    "    plt.ylabel('1-tailed p-value' if column.endswith('1-pvalue') else '2-tailed p-value')\n",
    "    plt.title(title)\n",
    "    plt.savefig('%s.png' % column.replace(' ', '_'))\n",
    "    plt.clf()\n",
    "\n",
    "def plot_OA(data, column, title):\n",
    "    pvals = data.sort_values(column)[column]\n",
    "    plt.scatter(pvals, list(range(pvals.count())), c='r', marker='x')\n",
    "    plt.xlabel('1-tailed p-value' if column.endswith('1-pvalue') else '2-tailed p-value')\n",
    "    plt.ylabel('rank')\n",
    "    plt.title(title)\n",
    "    plt.savefig('%s.png' % column.replace(' ', '_'))\n",
    "    plt.clf()"
   ]
  },
  {
   "cell_type": "code",
   "execution_count": 5,
   "metadata": {},
   "outputs": [
    {
     "name": "stdout",
     "output_type": "stream",
     "text": [
      "Results by ttest:\n"
     ]
    }
   ],
   "source": [
    "ttest = pd.read_csv('ttest.fdr.csv')\n",
    "print('Results by ttest:')"
   ]
  },
  {
   "cell_type": "code",
   "execution_count": 6,
   "metadata": {},
   "outputs": [
    {
     "name": "stdout",
     "output_type": "stream",
     "text": [
      "m2h 1-pvalue: 7467 < 0.05\n",
      "m2h stat: 26002 < 0.05\n",
      "m2h2-pvalue: 10613 < 0.05\n",
      "1-fdr m2h: 1848 < 0.05\n",
      "1-fdr h2m: 25588 < 0.05\n",
      "2-fdr h2m: 3970 < 0.05\n",
      "m2h 1-pvalue: 10100 < 0.1\n",
      "m2h stat: 26775 < 0.1\n",
      "m2h2-pvalue: 14534 < 0.1\n",
      "1-fdr m2h: 2936 < 0.1\n",
      "1-fdr h2m: 25970 < 0.1\n",
      "2-fdr h2m: 5700 < 0.1\n"
     ]
    }
   ],
   "source": [
    "for threshold in [0.05, 0.1]:\n",
    "    for col in ['m2h 1-pvalue', 'm2h stat', 'm2h2-pvalue', '1-fdr m2h', '1-fdr h2m', '2-fdr h2m']:\n",
    "        analyze(ttest, col, threshold)"
   ]
  },
  {
   "cell_type": "code",
   "execution_count": 7,
   "metadata": {},
   "outputs": [
    {
     "name": "stdout",
     "output_type": "stream",
     "text": [
      "Results by ranksums:\n"
     ]
    }
   ],
   "source": [
    "ranksum = pd.read_csv('ranksum.fdr.csv')\n",
    "print('Results by ranksums:')"
   ]
  },
  {
   "cell_type": "code",
   "execution_count": 10,
   "metadata": {},
   "outputs": [
    {
     "name": "stdout",
     "output_type": "stream",
     "text": [
      "2-fdr h2m: 9486 < 0.1\n"
     ]
    }
   ],
   "source": [
    "analyze(ranksum, '2-fdr h2m',threshold)"
   ]
  },
  {
   "cell_type": "code",
   "execution_count": 11,
   "metadata": {},
   "outputs": [],
   "source": [
    "def plot_FDR(data, column, title):\n",
    "    pvals = data.sort_values(column)[column]\n",
    "    plt.scatter(list(range(pvals.count())), pvals, c='r', marker='x')\n",
    "    plt.axhline(y = 0.05)\n",
    "    plt.xlabel('rank')\n",
    "    plt.ylabel('1-tailed p-value' if column.endswith('1-pvalue') else '2-tailed p-value')\n",
    "    plt.title(title)\n",
    "    plt.savefig('%s.png' % column.replace(' ', '_'))\n",
    "    plt.clf()"
   ]
  },
  {
   "cell_type": "code",
   "execution_count": 12,
   "metadata": {},
   "outputs": [],
   "source": [
    "def plot_OA(data, column, title):\n",
    "    pvals = data.sort_values(column)[column]\n",
    "    plt.scatter(pvals, list(range(pvals.count())), c='r', marker='x')\n",
    "    plt.xlabel('1-tailed p-value' if column.endswith('1-pvalue') else '2-tailed p-value')\n",
    "    plt.ylabel('rank')\n",
    "    plt.title(title)\n",
    "    plt.savefig('%s.png' % column.replace(' ', '_'))\n",
    "    plt.clf()"
   ]
  },
  {
   "cell_type": "code",
   "execution_count": 13,
   "metadata": {},
   "outputs": [
    {
     "data": {
      "text/plain": [
       "<Figure size 432x288 with 0 Axes>"
      ]
     },
     "metadata": {},
     "output_type": "display_data"
    }
   ],
   "source": [
    "plot_OA(ttest, 'm2h 1-pvalue', 'Healthy to Convalescent DE (Healthy Over expressed)')"
   ]
  },
  {
   "cell_type": "code",
   "execution_count": 14,
   "metadata": {},
   "outputs": [
    {
     "data": {
      "text/plain": [
       "<Figure size 432x288 with 0 Axes>"
      ]
     },
     "metadata": {},
     "output_type": "display_data"
    }
   ],
   "source": [
    "plot_OA(ttest, '1-fdr m2h', 'Convalescent to Healthy DE (Healthy Under expressed)')"
   ]
  },
  {
   "cell_type": "code",
   "execution_count": 15,
   "metadata": {},
   "outputs": [
    {
     "data": {
      "text/plain": [
       "<Figure size 432x288 with 0 Axes>"
      ]
     },
     "metadata": {},
     "output_type": "display_data"
    }
   ],
   "source": [
    "plot_OA(ttest, '2-fdr h2m', 'Healthy to Convalescent DE')"
   ]
  },
  {
   "cell_type": "code",
   "execution_count": 16,
   "metadata": {},
   "outputs": [],
   "source": [
    "dl = pd.read_csv('labels3.csv')\n",
    "ids_to_state = dl.set_index('id').disease_state.to_dict()\n",
    "h = [id for id, state in ids_to_state.items() if state == 'H']\n",
    "m = [id for id, state in ids_to_state.items() if state == 'M']\n",
    "# hemorrhagic = [id for id, state in ids_to_state.items() if state == 'Dengue Hemorrhagic Fever']\n",
    "# fever = [id for id, state in ids_to_state.items() if state == 'Dengue Fever']\n",
    "\n",
    "states = {\n",
    "    'H': h,\n",
    "    'M': m,\n",
    "    # 'Fever': fever,\n",
    "}"
   ]
  },
  {
   "cell_type": "code",
   "execution_count": 17,
   "metadata": {},
   "outputs": [],
   "source": [
    "expression_data = pd.read_csv('AMI_GSE66360_series_matrix.csv').set_index('ID_REF')\n"
   ]
  },
  {
   "cell_type": "code",
   "execution_count": 20,
   "metadata": {},
   "outputs": [],
   "source": [
    "\n",
    "def significant_genes(by_col, for_class):\n",
    "    genes = ttest.sort_values(by_col).head(3)['ID_REF']\n",
    "\n",
    "    colors = {}\n",
    "    colors[list(genes)[0]] = ('r', 'x')\n",
    "    colors[list(genes)[1]] = ('g', 'o')\n",
    "    colors[list(genes)[2]] = ('b', '+')\n",
    "\n",
    "    print('significant genes for %s: %s' % (for_class, list(genes)))\n",
    "    for gene in genes:\n",
    "        gene_expression = expression_data.ix[gene]\n",
    "        healthy_expression = gene_expression.ix[h]\n",
    "        class_expression = gene_expression.ix[states[for_class]]\n",
    "        color, marker = colors[gene]\n",
    "        plt.scatter(list(range(healthy_expression.count())), list(healthy_expression), c=color, marker=marker, label=gene)\n",
    "        plt.scatter(list(range(healthy_expression.count() + 1, 1 + healthy_expression.count() + class_expression.count())), list(class_expression), c=color, marker=marker)\n",
    "\n",
    "    plt.axvline(healthy_expression.count() + 0.5)\n",
    "    ymin, ymax = plt.gca().get_ylim()\n",
    "    texty = ymin + (ymax - ymin) * 0.08\n",
    "    plt.text(healthy_expression.count() + 2, texty, for_class)\n",
    "    plt.text(1, texty, 'Healthy')\n",
    "    plt.xlabel('Patient')\n",
    "    plt.ylabel('Expression level')\n",
    "    plt.title('Selected Expression Levels for Healthy vs %s' % for_class)\n",
    "    plt.legend(loc='best')\n",
    "    plt.savefig('significant-%s.png' % by_col.replace(' ', '_'))\n",
    "    plt.clf()"
   ]
  },
  {
   "cell_type": "code",
   "execution_count": 21,
   "metadata": {},
   "outputs": [
    {
     "name": "stdout",
     "output_type": "stream",
     "text": [
      "significant genes for H: ['216248_s_at', '208869_s_at', '204622_x_at']\n"
     ]
    },
    {
     "name": "stderr",
     "output_type": "stream",
     "text": [
      "/home/ofri/.local/lib/python3.5/site-packages/ipykernel_launcher.py:12: DeprecationWarning: \n",
      ".ix is deprecated. Please use\n",
      ".loc for label based indexing or\n",
      ".iloc for positional indexing\n",
      "\n",
      "See the documentation here:\n",
      "http://pandas.pydata.org/pandas-docs/stable/indexing.html#ix-indexer-is-deprecated\n",
      "  if sys.path[0] == '':\n",
      "/home/ofri/.local/lib/python3.5/site-packages/ipykernel_launcher.py:13: DeprecationWarning: \n",
      ".ix is deprecated. Please use\n",
      ".loc for label based indexing or\n",
      ".iloc for positional indexing\n",
      "\n",
      "See the documentation here:\n",
      "http://pandas.pydata.org/pandas-docs/stable/indexing.html#ix-indexer-is-deprecated\n",
      "  del sys.path[0]\n",
      "/home/ofri/.local/lib/python3.5/site-packages/ipykernel_launcher.py:14: DeprecationWarning: \n",
      ".ix is deprecated. Please use\n",
      ".loc for label based indexing or\n",
      ".iloc for positional indexing\n",
      "\n",
      "See the documentation here:\n",
      "http://pandas.pydata.org/pandas-docs/stable/indexing.html#ix-indexer-is-deprecated\n",
      "  \n"
     ]
    },
    {
     "data": {
      "text/plain": [
       "<Figure size 432x288 with 0 Axes>"
      ]
     },
     "metadata": {},
     "output_type": "display_data"
    }
   ],
   "source": [
    "significant_genes('2-fdr h2m', 'H')\n",
    "#significant_genes('2-fdr h2hm', 'Hemorrhagic')\n",
    "#significant_genes('2-fdr h2f', 'Fever')"
   ]
  }
 ],
 "metadata": {
  "kernelspec": {
   "display_name": "Python 3",
   "language": "python",
   "name": "python3"
  },
  "language_info": {
   "codemirror_mode": {
    "name": "ipython",
    "version": 3
   },
   "file_extension": ".py",
   "mimetype": "text/x-python",
   "name": "python",
   "nbconvert_exporter": "python",
   "pygments_lexer": "ipython3",
   "version": "3.5.2"
  }
 },
 "nbformat": 4,
 "nbformat_minor": 2
}
