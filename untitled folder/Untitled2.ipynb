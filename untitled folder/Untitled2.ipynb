{
 "cells": [
  {
   "cell_type": "code",
   "execution_count": 21,
   "metadata": {},
   "outputs": [],
   "source": [
    "import pandas as pd\n",
    "from statsmodels.sandbox.stats.multicomp import multipletests\n",
    "import pandas as pd\n",
    "from IPython.display import display\n",
    "import csv\n",
    "import scipy as scp\n",
    "from scipy import stats as stts\n",
    "import matplotlib.pyplot as plt\n",
    "\n",
    "import numpy as np"
   ]
  },
  {
   "cell_type": "code",
   "execution_count": 2,
   "metadata": {},
   "outputs": [],
   "source": [
    "def compute_fdr(data):\n",
    "    _, data['1-fdr m2h'], _, _ = multipletests(data['m2h 1-pvalue'], method='fdr_bh')\n",
    "    _, data['1-fdr h2m'], _, _ = multipletests(data['m2h stat'], method='fdr_bh')\n",
    "    _, data['2-fdr h2m'], _, _ = multipletests(data['m2h2-pvalue'], method='fdr_bh')\n",
    "    # _, data['1-fdr h2hm'], _, _ = multipletests(data['h2hm 1-pvalue'], method='fdr_bh')\n",
    "    # _, data['1-fdr hm2h'], _, _ = multipletests(data['hm2h 1-pvalue'], method='fdr_bh')\n",
    "    # _, data['2-fdr h2hm'], _, _ = multipletests(data['h2hm 2-pvalue'], method='fdr_bh')\n",
    "    # _, data['1-fdr h2f'], _, _ = multipletests(data['h2f 1-pvalue'], method='fdr_bh')\n",
    "    # _, data['1-fdr f2h'], _, _ = multipletests(data['f2h 1-pvalue'], method='fdr_bh')\n",
    "    # _, data['2-fdr h2f'], _, _ = multipletests(data['h2f 2-pvalue'], method='fdr_bh')"
   ]
  },
  {
   "cell_type": "code",
   "execution_count": 3,
   "metadata": {},
   "outputs": [],
   "source": [
    "ttest = pd.read_csv('ttest.csv')"
   ]
  },
  {
   "cell_type": "code",
   "execution_count": 7,
   "metadata": {},
   "outputs": [],
   "source": [
    "output = open('ttttest.csv','w')"
   ]
  },
  {
   "cell_type": "code",
   "execution_count": 23,
   "metadata": {},
   "outputs": [
    {
     "name": "stdout",
     "output_type": "stream",
     "text": [
      "Unnamed: 0\n",
      "ID_REF\n",
      "m2h 1-pvalue\n",
      "m2h stat\n",
      "m2h2-pvalue\n",
      "1-fdr m2h\n",
      "1-fdr h2m\n",
      "2-fdr h2m\n"
     ]
    }
   ],
   "source": [
    "for line in ttest:\n",
    "    print(line)"
   ]
  }
 ],
 "metadata": {
  "kernelspec": {
   "display_name": "Python 3",
   "language": "python",
   "name": "python3"
  },
  "language_info": {
   "codemirror_mode": {
    "name": "ipython",
    "version": 3
   },
   "file_extension": ".py",
   "mimetype": "text/x-python",
   "name": "python",
   "nbconvert_exporter": "python",
   "pygments_lexer": "ipython3",
   "version": "3.6.4"
  }
 },
 "nbformat": 4,
 "nbformat_minor": 2
}
