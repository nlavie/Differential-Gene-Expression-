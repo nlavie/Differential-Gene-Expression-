{
 "cells": [
  {
   "cell_type": "code",
   "execution_count": 22,
   "metadata": {},
   "outputs": [],
   "source": [
    "from scipy import stats\n",
    "import pandas as pd\n",
    "import sys, random"
   ]
  },
  {
   "cell_type": "code",
   "execution_count": 15,
   "metadata": {},
   "outputs": [],
   "source": [
    "dl = pd.read_csv('statisticsAssignment/rs_g/labels3.csv')\n",
    "df = pd.read_csv('statisticsAssignment/rs_g/AMI_GSE66360_series_matrix.csv')"
   ]
  },
  {
   "cell_type": "code",
   "execution_count": 16,
   "metadata": {},
   "outputs": [],
   "source": [
    "ids_to_state = dl.set_index('id').disease_state.to_dict()\n",
    "state_to_ids = dl.set_index('disease_state')"
   ]
  },
  {
   "cell_type": "code",
   "execution_count": 17,
   "metadata": {},
   "outputs": [],
   "source": [
    "m = [id for id, state in ids_to_state.items() if state == 'M']\n",
    "h = [id for id, state in ids_to_state.items() if state == 'H']"
   ]
  },
  {
   "cell_type": "code",
   "execution_count": 21,
   "metadata": {},
   "outputs": [
    {
     "data": {
      "text/plain": [
       "['GSM1620832',\n",
       " 'GSM1620833',\n",
       " 'GSM1620834',\n",
       " 'GSM1620835',\n",
       " 'GSM1620836',\n",
       " 'GSM1620837',\n",
       " 'GSM1620838',\n",
       " 'GSM1620839',\n",
       " 'GSM1620840',\n",
       " 'GSM1620841',\n",
       " 'GSM1620842',\n",
       " 'GSM1620843',\n",
       " 'GSM1620844',\n",
       " 'GSM1620845',\n",
       " 'GSM1620846',\n",
       " 'GSM1620847',\n",
       " 'GSM1620848',\n",
       " 'GSM1620849',\n",
       " 'GSM1620850',\n",
       " 'GSM1620851',\n",
       " 'GSM1620852',\n",
       " 'GSM1620877',\n",
       " 'GSM1620878',\n",
       " 'GSM1620879',\n",
       " 'GSM1620880',\n",
       " 'GSM1620881',\n",
       " 'GSM1620882',\n",
       " 'GSM1620883',\n",
       " 'GSM1620884',\n",
       " 'GSM1620885',\n",
       " 'GSM1620886',\n",
       " 'GSM1620887',\n",
       " 'GSM1620888',\n",
       " 'GSM1620889',\n",
       " 'GSM1620890',\n",
       " 'GSM1620891',\n",
       " 'GSM1620905',\n",
       " 'GSM1620906',\n",
       " 'GSM1620907',\n",
       " 'GSM1620908',\n",
       " 'GSM1620909',\n",
       " 'GSM1620910',\n",
       " 'GSM1620911',\n",
       " 'GSM1620912',\n",
       " 'GSM1620913',\n",
       " 'GSM1620914',\n",
       " 'GSM1620915',\n",
       " 'GSM1620916',\n",
       " 'GSM1620917']"
      ]
     },
     "execution_count": 21,
     "metadata": {},
     "output_type": "execute_result"
    }
   ],
   "source": [
    "m"
   ]
  },
  {
   "cell_type": "code",
   "execution_count": 26,
   "metadata": {},
   "outputs": [],
   "source": [
    "def ttest_row(gene, test):\n",
    "    if random.randint(1, 100) == 1:\n",
    "        sys.stdout.write('.')\n",
    "        sys.stdout.flush()\n",
    "\n",
    "    #h2c = test(gene.ix[healthy], gene.ix[convalescent])\n",
    "    #h2h = test(gene.ix[healthy], gene.ix[hemorrhagic])\n",
    "    #h2f = test(gene.ix[healthy], gene.ix[fever])\n",
    "    m2h = test(gene.ix[m], gene.ix[h])\n",
    "    return pd.Series({\n",
    "        'ID_REF': gene.loc['ID_REF'],\n",
    "        #'h2c stat': h2c.statistic,\n",
    "        #'h2c 1-pvalue': h2c.pvalue / 2.0 if h2c.statistic > 0 else (1 - (h2c.pvalue / 2.0)),\n",
    "        #'c2h 1-pvalue': h2c.pvalue / 2.0 if h2c.statistic < 0 else (1 - (h2c.pvalue / 2.0)),\n",
    "        #'h2c 2-pvalue': h2c.pvalue,\n",
    "        #'h2hm stat': h2h.statistic,\n",
    "        #'h2hm 1-pvalue': h2h.pvalue / 2.0 if h2h.statistic > 0 else (1 - (h2h.pvalue / 2.0)),\n",
    "        #'hm2h 1-pvalue': h2h.pvalue / 2.0 if h2h.statistic < 0 else (1 - (h2h.pvalue / 2.0)),\n",
    "        #'h2hm 2-pvalue': h2h.pvalue,\n",
    "        #'h2f stat': h2f.statistic,\n",
    "        #'h2f 1-pvalue': h2f.pvalue / 2.0 if h2f.statistic > 0 else (1 - (h2f.pvalue / 2.0)),\n",
    "        #'f2h 1-pvalue': h2f.pvalue / 2.0 if h2f.statistic < 0 else (1 - (h2f.pvalue / 2.0)),\n",
    "        #'h2f 2-pvalue': h2f.pvalue,\n",
    "        'm2h stat': m2h.statistic,\n",
    "        'm2h 1-pvalue': m2h.pvalue / 2.0 if m2h.statistic > 0 else (1 - (m2h.pvalue / 2.0)),\n",
    "        'm2h 1-pvalue': m2h.pvalue / 2.0 if m2h.statistic < 0 else (1 - (m2h.pvalue / 2.0)),\n",
    "        'm2h2-pvalue': m2h.pvalue,\n",
    "    })"
   ]
  },
  {
   "cell_type": "code",
   "execution_count": 27,
   "metadata": {},
   "outputs": [
    {
     "name": "stdout",
     "output_type": "stream",
     "text": [
      "Computing ttest for data\n"
     ]
    },
    {
     "name": "stderr",
     "output_type": "stream",
     "text": [
      "/anaconda3/lib/python3.6/site-packages/ipykernel_launcher.py:9: DeprecationWarning: \n",
      ".ix is deprecated. Please use\n",
      ".loc for label based indexing or\n",
      ".iloc for positional indexing\n",
      "\n",
      "See the documentation here:\n",
      "http://pandas.pydata.org/pandas-docs/stable/indexing.html#ix-indexer-is-deprecated\n",
      "  if __name__ == '__main__':\n"
     ]
    },
    {
     "name": "stdout",
     "output_type": "stream",
     "text": [
      ".............................................................................................................................................................................................................................................................................................................................................................................................................................................................................................................................................................................................................."
     ]
    }
   ],
   "source": [
    "print('Computing ttest for data')\n",
    "ttest = df.apply(ttest_row, axis=1, args=(stats.ttest_ind,))\n",
    "ttest.to_csv('ttest.csv')"
   ]
  },
  {
   "cell_type": "code",
   "execution_count": null,
   "metadata": {},
   "outputs": [],
   "source": [
    "#Skipping ranksums for performance\n",
    "print('')\n",
    "print('Computing ranksums for data')\n",
    "ranksum = df.apply(ttest_row, axis=1, args=(stats.ranksums,))\n",
    "ranksum.to_csv('ranksum.csv')"
   ]
  },
  {
   "cell_type": "code",
   "execution_count": null,
   "metadata": {},
   "outputs": [],
   "source": []
  },
  {
   "cell_type": "code",
   "execution_count": null,
   "metadata": {},
   "outputs": [],
   "source": []
  },
  {
   "cell_type": "code",
   "execution_count": null,
   "metadata": {},
   "outputs": [],
   "source": []
  },
  {
   "cell_type": "code",
   "execution_count": null,
   "metadata": {},
   "outputs": [],
   "source": [
    "#!/usr/bin/env python3\n",
    "\n",
    "\n",
    "#hemorrhagic = [id for id, state in ids_to_state.items() if state == 'Dengue Hemorrhagic Fever']\n",
    "#fever = [id for id, state in ids_to_state.items() if state == 'Dengue Fever']\n",
    "\n",
    "\n",
    "\n",
    "\n",
    "\n",
    "\n",
    "\n",
    "\n",
    "# Implement TNoM and use as a third statistical measure\n",
    "# http://bioinfo.cs.technion.ac.il/projects/Kahana-Navon/TNoM.htm\n"
   ]
  }
 ],
 "metadata": {
  "kernelspec": {
   "display_name": "Python 3",
   "language": "python",
   "name": "python3"
  },
  "language_info": {
   "codemirror_mode": {
    "name": "ipython",
    "version": 3
   },
   "file_extension": ".py",
   "mimetype": "text/x-python",
   "name": "python",
   "nbconvert_exporter": "python",
   "pygments_lexer": "ipython3",
   "version": "3.6.4"
  }
 },
 "nbformat": 4,
 "nbformat_minor": 2
}
